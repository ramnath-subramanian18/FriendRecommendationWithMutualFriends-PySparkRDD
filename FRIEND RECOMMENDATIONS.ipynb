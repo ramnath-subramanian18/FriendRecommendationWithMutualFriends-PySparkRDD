{
 "cells": [
  {
   "cell_type": "code",
   "execution_count": 0,
   "metadata": {
    "application/vnd.databricks.v1+cell": {
     "cellMetadata": {},
     "inputWidgets": {},
     "nuid": "e84d383b-850c-4ce0-9fa0-ffa45e450efc",
     "showTitle": false,
     "title": ""
    }
   },
   "outputs": [],
   "source": [
    "import math\n",
    "from pyspark.sql.functions import *"
   ]
  },
  {
   "cell_type": "code",
   "execution_count": 0,
   "metadata": {
    "application/vnd.databricks.v1+cell": {
     "cellMetadata": {},
     "inputWidgets": {},
     "nuid": "d1e31f52-00d0-4866-9c6a-bcaf55cf26a6",
     "showTitle": false,
     "title": ""
    }
   },
   "outputs": [],
   "source": [
    "# Reeading the dataset , splitting it into rows\n",
    "friends_data = sc.textFile(\"/FileStore/tables/data.txt\")"
   ]
  },
  {
   "cell_type": "code",
   "execution_count": 0,
   "metadata": {
    "application/vnd.databricks.v1+cell": {
     "cellMetadata": {},
     "inputWidgets": {},
     "nuid": "d6de8bf2-4377-41ea-8667-49358adb34f0",
     "showTitle": false,
     "title": ""
    }
   },
   "outputs": [],
   "source": [
    "friends_data_split = friends_data.map(lambda x: x.split('\\t'))"
   ]
  },
  {
   "cell_type": "code",
   "execution_count": 0,
   "metadata": {
    "application/vnd.databricks.v1+cell": {
     "cellMetadata": {},
     "inputWidgets": {},
     "nuid": "f66d568e-e1b2-4fb7-b4b9-dea8593c3894",
     "showTitle": false,
     "title": ""
    }
   },
   "outputs": [],
   "source": [
    "#friends_data_split.collect()"
   ]
  },
  {
   "cell_type": "code",
   "execution_count": 0,
   "metadata": {
    "application/vnd.databricks.v1+cell": {
     "cellMetadata": {},
     "inputWidgets": {},
     "nuid": "08090c11-75bb-4f7b-833a-ee8e2855d264",
     "showTitle": false,
     "title": ""
    }
   },
   "outputs": [],
   "source": [
    "friends_rdd = friends_data_split.flatMap(lambda x: ((x[0],i) for i in x[1].split(',')) )\n",
    "#friends_rdd.collect()"
   ]
  },
  {
   "cell_type": "code",
   "execution_count": 0,
   "metadata": {
    "application/vnd.databricks.v1+cell": {
     "cellMetadata": {},
     "inputWidgets": {},
     "nuid": "8b0cc19a-8598-47f4-ab2f-f3e459857179",
     "showTitle": false,
     "title": ""
    }
   },
   "outputs": [],
   "source": [
    "# EXPANDING THE FRIENDS OF EACH USER ID WITH THEIR FRIENDS"
   ]
  },
  {
   "cell_type": "code",
   "execution_count": 0,
   "metadata": {
    "application/vnd.databricks.v1+cell": {
     "cellMetadata": {},
     "inputWidgets": {},
     "nuid": "c84bf524-35e1-42f3-9285-15fa6f590463",
     "showTitle": false,
     "title": ""
    }
   },
   "outputs": [],
   "source": [
    "friends_inverted = friends_rdd.map( lambda x: (x[1],x[0]) )  \n",
    "#friends_inverted.collect()"
   ]
  },
  {
   "cell_type": "code",
   "execution_count": 0,
   "metadata": {
    "application/vnd.databricks.v1+cell": {
     "cellMetadata": {},
     "inputWidgets": {},
     "nuid": "71ae938f-eab4-4336-8cce-5e241c2fe7dd",
     "showTitle": false,
     "title": ""
    }
   },
   "outputs": [],
   "source": [
    "friends_joined = friends_inverted.join(friends_data_split)\n",
    "#friends_joined.collect()"
   ]
  },
  {
   "cell_type": "code",
   "execution_count": 0,
   "metadata": {
    "application/vnd.databricks.v1+cell": {
     "cellMetadata": {},
     "inputWidgets": {},
     "nuid": "828fed66-262f-4de0-afd6-4f157268b6d9",
     "showTitle": false,
     "title": ""
    }
   },
   "outputs": [],
   "source": [
    "friends_reverted = friends_joined.map(lambda x:(x[1][0],(x[0],x[1][1])))\n",
    "#friends_reverted.sortByKey().collect()"
   ]
  },
  {
   "cell_type": "code",
   "execution_count": 0,
   "metadata": {
    "application/vnd.databricks.v1+cell": {
     "cellMetadata": {},
     "inputWidgets": {},
     "nuid": "37b1047a-ad9f-4256-adf9-e1ed5819e61a",
     "showTitle": false,
     "title": ""
    }
   },
   "outputs": [],
   "source": [
    "friends_reverted2=friends_reverted.map(lambda x:(x[0],x[1][1]))\n",
    "#friends_reverted2.sortByKey().collect()"
   ]
  },
  {
   "cell_type": "code",
   "execution_count": 0,
   "metadata": {
    "application/vnd.databricks.v1+cell": {
     "cellMetadata": {},
     "inputWidgets": {},
     "nuid": "4960def7-2515-4ac3-b90f-245e1a0dad15",
     "showTitle": false,
     "title": ""
    }
   },
   "outputs": [],
   "source": [
    "friends_union = friends_reverted2.reduceByKey(lambda x,y: (x +\",\"+ y))\n",
    "#friends_union.sortByKey().collect()"
   ]
  },
  {
   "cell_type": "code",
   "execution_count": 0,
   "metadata": {
    "application/vnd.databricks.v1+cell": {
     "cellMetadata": {},
     "inputWidgets": {},
     "nuid": "72b8476a-a2da-4a57-85a4-4aca48b9edbe",
     "showTitle": false,
     "title": ""
    }
   },
   "outputs": [],
   "source": [
    "friends_suggestion_flatmap = friends_union.flatMap(lambda x:((x[0],i) for i in x[1].split(',')))\n",
    "#friends_suggestion_flatmap.sortByKey().collect()"
   ]
  },
  {
   "cell_type": "code",
   "execution_count": 0,
   "metadata": {
    "application/vnd.databricks.v1+cell": {
     "cellMetadata": {},
     "inputWidgets": {},
     "nuid": "b9b9920c-ba22-4924-86bb-2a6f2fda95c1",
     "showTitle": false,
     "title": ""
    }
   },
   "outputs": [],
   "source": [
    "#friends_inverted.sortByKey().collect()"
   ]
  },
  {
   "cell_type": "code",
   "execution_count": 0,
   "metadata": {
    "application/vnd.databricks.v1+cell": {
     "cellMetadata": {},
     "inputWidgets": {},
     "nuid": "7f26e810-ce60-4bf0-a14d-4d37312367b1",
     "showTitle": false,
     "title": ""
    }
   },
   "outputs": [],
   "source": [
    "friends_suggestions_filtered = friends_suggestion_flatmap.subtract(friends_inverted)\n",
    "#friends_suggestions_filtered.sortByKey().collect()"
   ]
  },
  {
   "cell_type": "code",
   "execution_count": 0,
   "metadata": {
    "application/vnd.databricks.v1+cell": {
     "cellMetadata": {},
     "inputWidgets": {},
     "nuid": "5361d0e7-0f16-40be-ae2d-41407bb5f4f4",
     "showTitle": false,
     "title": ""
    }
   },
   "outputs": [],
   "source": [
    "friends_suggestions_filtered_count = friends_suggestions_filtered.map(lambda x:(x[0],(x[1],1))) "
   ]
  },
  {
   "cell_type": "code",
   "execution_count": 0,
   "metadata": {
    "application/vnd.databricks.v1+cell": {
     "cellMetadata": {},
     "inputWidgets": {},
     "nuid": "65cfa49f-f28d-459d-8bcd-90d25fb4f63a",
     "showTitle": false,
     "title": ""
    }
   },
   "outputs": [],
   "source": [
    "#friends_suggestions_filtered_count.sortByKey().collect()"
   ]
  },
  {
   "cell_type": "code",
   "execution_count": 0,
   "metadata": {
    "application/vnd.databricks.v1+cell": {
     "cellMetadata": {},
     "inputWidgets": {},
     "nuid": "667ff793-3ac4-49c3-9043-258b9c266d54",
     "showTitle": false,
     "title": ""
    }
   },
   "outputs": [],
   "source": [
    "friends_suggestions_filtered_count2 = friends_suggestions_filtered_count.filter(lambda x: x[1][0]!=x[0])\n",
    "#friends_suggestions_filtered_count2.sortByKey().collect()"
   ]
  },
  {
   "cell_type": "code",
   "execution_count": 0,
   "metadata": {
    "application/vnd.databricks.v1+cell": {
     "cellMetadata": {},
     "inputWidgets": {},
     "nuid": "c9302e35-094d-4208-8a9d-8befd0940593",
     "showTitle": false,
     "title": ""
    }
   },
   "outputs": [],
   "source": [
    "friends_mapped = friends_suggestions_filtered_count2.map(lambda x:((x[0]+\"_\"+x[1][0]),x[1][1]))\n",
    "#friends_mapped.sortByKey().collect()"
   ]
  },
  {
   "cell_type": "code",
   "execution_count": 0,
   "metadata": {
    "application/vnd.databricks.v1+cell": {
     "cellMetadata": {},
     "inputWidgets": {},
     "nuid": "6b8b5870-aa8d-4181-8b68-154cd159b21f",
     "showTitle": false,
     "title": ""
    }
   },
   "outputs": [],
   "source": [
    "friends_reduced = friends_mapped.reduceByKey(lambda x,y:x+y)\n",
    "#friends_reduced.sortByKey().collect()"
   ]
  },
  {
   "cell_type": "code",
   "execution_count": 0,
   "metadata": {
    "application/vnd.databricks.v1+cell": {
     "cellMetadata": {},
     "inputWidgets": {},
     "nuid": "5aed5a9c-7582-4dbb-8d1b-025c8a1a507b",
     "showTitle": false,
     "title": ""
    }
   },
   "outputs": [],
   "source": [
    "friends_reduced2 = friends_reduced.map(lambda x: (x[0][0:x[0].index(\"_\")],(x[0][x[0].index(\"_\")+1:len(x[0])], x[1])))\n",
    "#friends_reduced2.sortByKey().collect()"
   ]
  },
  {
   "cell_type": "code",
   "execution_count": 0,
   "metadata": {
    "application/vnd.databricks.v1+cell": {
     "cellMetadata": {},
     "inputWidgets": {},
     "nuid": "eefba2d1-06bb-4228-866a-09a719af5062",
     "showTitle": false,
     "title": ""
    }
   },
   "outputs": [],
   "source": [
    "friends_reduced3 = friends_reduced2.sortBy(lambda x: -x[1][1]).sortByKey()\n"
   ]
  },
  {
   "cell_type": "code",
   "execution_count": 0,
   "metadata": {
    "application/vnd.databricks.v1+cell": {
     "cellMetadata": {},
     "inputWidgets": {},
     "nuid": "f62837ea-e972-46b8-813b-64cea1860893",
     "showTitle": false,
     "title": ""
    }
   },
   "outputs": [],
   "source": [
    "#friends_reduced3.collect()"
   ]
  },
  {
   "cell_type": "code",
   "execution_count": 0,
   "metadata": {
    "application/vnd.databricks.v1+cell": {
     "cellMetadata": {},
     "inputWidgets": {},
     "nuid": "94a761fe-60af-4dfc-a727-f88d98b11d96",
     "showTitle": false,
     "title": ""
    }
   },
   "outputs": [
    {
     "output_type": "display_data",
     "data": {
      "text/html": [
       "<style scoped>\n",
       "  .ansiout {\n",
       "    display: block;\n",
       "    unicode-bidi: embed;\n",
       "    white-space: pre-wrap;\n",
       "    word-wrap: break-word;\n",
       "    word-break: break-all;\n",
       "    font-family: \"Source Code Pro\", \"Menlo\", monospace;;\n",
       "    font-size: 13px;\n",
       "    color: #555;\n",
       "    margin-left: 4px;\n",
       "    line-height: 19px;\n",
       "  }\n",
       "</style>"
      ]
     },
     "metadata": {
      "application/vnd.databricks.v1+output": {
       "arguments": {},
       "data": "",
       "errorSummary": "Cancelled",
       "errorTraceType": "html",
       "metadata": {},
       "type": "ipynbError"
      }
     },
     "output_type": "display_data"
    }
   ],
   "source": [
    "friends_reduced4 = friends_reduced3.map(lambda x:(x[0],(x[1][0]))).reduceByKey(lambda x,y:((x+\",\"+y))).sortByKey()\n",
    "#friends_reduced4.collect()"
   ]
  },
  {
   "cell_type": "code",
   "execution_count": 0,
   "metadata": {
    "application/vnd.databricks.v1+cell": {
     "cellMetadata": {},
     "inputWidgets": {},
     "nuid": "0a87b17f-bd62-4b67-83cf-16dacc3edd3c",
     "showTitle": false,
     "title": ""
    }
   },
   "outputs": [
    {
     "output_type": "display_data",
     "data": {
      "text/html": [
       "<style scoped>\n",
       "  .ansiout {\n",
       "    display: block;\n",
       "    unicode-bidi: embed;\n",
       "    white-space: pre-wrap;\n",
       "    word-wrap: break-word;\n",
       "    word-break: break-all;\n",
       "    font-family: \"Source Code Pro\", \"Menlo\", monospace;;\n",
       "    font-size: 13px;\n",
       "    color: #555;\n",
       "    margin-left: 4px;\n",
       "    line-height: 19px;\n",
       "  }\n",
       "</style>"
      ]
     },
     "metadata": {
      "application/vnd.databricks.v1+output": {
       "arguments": {},
       "data": "",
       "errorSummary": "Command skipped",
       "errorTraceType": "html",
       "metadata": {},
       "type": "ipynbError"
      }
     },
     "output_type": "display_data"
    }
   ],
   "source": [
    "# FINAL OUTPUT ==> TOP 10 FRIEND RECOMMENDATIONS FOR EACH USER ID"
   ]
  },
  {
   "cell_type": "code",
   "execution_count": 0,
   "metadata": {
    "application/vnd.databricks.v1+cell": {
     "cellMetadata": {},
     "inputWidgets": {},
     "nuid": "586265c9-68d0-4422-b5ba-b8a82aa30f9b",
     "showTitle": false,
     "title": ""
    }
   },
   "outputs": [
    {
     "output_type": "display_data",
     "data": {
      "text/html": [
       "<style scoped>\n",
       "  .ansiout {\n",
       "    display: block;\n",
       "    unicode-bidi: embed;\n",
       "    white-space: pre-wrap;\n",
       "    word-wrap: break-word;\n",
       "    word-break: break-all;\n",
       "    font-family: \"Source Code Pro\", \"Menlo\", monospace;;\n",
       "    font-size: 13px;\n",
       "    color: #555;\n",
       "    margin-left: 4px;\n",
       "    line-height: 19px;\n",
       "  }\n",
       "</style>"
      ]
     },
     "metadata": {
      "application/vnd.databricks.v1+output": {
       "arguments": {},
       "data": "",
       "errorSummary": "Command skipped",
       "errorTraceType": "html",
       "metadata": {},
       "type": "ipynbError"
      }
     },
     "output_type": "display_data"
    }
   ],
   "source": [
    "friends_final = friends_reduced4.map(lambda x:(x[0],(x[1].split(\",\")[0:10])))\n",
    "friends_final.collect()"
   ]
  }
 ],
 "metadata": {
  "application/vnd.databricks.v1+notebook": {
   "dashboards": [],
   "language": "python",
   "notebookMetadata": {
    "pythonIndentUnit": 4
   },
   "notebookName": "FRIEND RECOMMENDATIONS",
   "widgets": {}
  }
 },
 "nbformat": 4,
 "nbformat_minor": 0
}
